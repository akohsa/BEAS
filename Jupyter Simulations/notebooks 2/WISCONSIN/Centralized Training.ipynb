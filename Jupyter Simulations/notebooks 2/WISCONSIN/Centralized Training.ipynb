{
 "cells": [
  {
   "cell_type": "code",
   "execution_count": 172,
   "metadata": {},
   "outputs": [],
   "source": [
    "# !pip install plotly"
   ]
  },
  {
   "cell_type": "code",
   "execution_count": 1,
   "metadata": {},
   "outputs": [],
   "source": [
    "import pandas as pd\n",
    "import numpy as np\n",
    "from sklearn.preprocessing import LabelEncoder\n",
    "from sklearn.model_selection import train_test_split\n",
    "from sklearn.preprocessing import StandardScaler\n",
    "import keras\n",
    "from keras.models import Sequential\n",
    "from keras.layers import Dense, Dropout\n",
    "from sklearn.metrics import confusion_matrix\n",
    "import sys\n",
    "%matplotlib inline\n",
    "import matplotlib.pyplot as plt\n",
    "import plotly.express as px"
   ]
  },
  {
   "cell_type": "code",
   "execution_count": 2,
   "metadata": {},
   "outputs": [
    {
     "name": "stdout",
     "output_type": "stream",
     "text": [
      "\u001b[31mdata.csv\u001b[m\u001b[m          \u001b[31mdataD.csv\u001b[m\u001b[m         \u001b[31mdataH.csv\u001b[m\u001b[m         \u001b[31mgenesis.csv\u001b[m\u001b[m\n",
      "\u001b[31mdataA.csv\u001b[m\u001b[m         \u001b[31mdataE.csv\u001b[m\u001b[m         \u001b[31mdataI.csv\u001b[m\u001b[m         \u001b[31msynthetic.csv\u001b[m\u001b[m\n",
      "\u001b[31mdataB.csv\u001b[m\u001b[m         \u001b[31mdataF.csv\u001b[m\u001b[m         \u001b[31mdataJ.csv\u001b[m\u001b[m         \u001b[31mtest.csv\u001b[m\u001b[m\n",
      "\u001b[31mdataC.csv\u001b[m\u001b[m         \u001b[31mdataG.csv\u001b[m\u001b[m         \u001b[31mdataK.csv\u001b[m\u001b[m         \u001b[31mtest_data_gan.csv\u001b[m\u001b[m\n"
     ]
    }
   ],
   "source": [
    "!ls data"
   ]
  },
  {
   "cell_type": "code",
   "execution_count": 8,
   "metadata": {},
   "outputs": [
    {
     "name": "stdout",
     "output_type": "stream",
     "text": [
      "Number of datapoints in Training dataset:  494\n",
      "Number of datapoints in Testing dataset:  75\n",
      "Epoch 1/20\n",
      "5/5 [==============================] - 1s 3ms/step - loss: 0.9452 - accuracy: 0.2317\n",
      "Epoch 2/20\n",
      "5/5 [==============================] - 0s 3ms/step - loss: 0.8727 - accuracy: 0.2603\n",
      "Epoch 3/20\n",
      "5/5 [==============================] - 0s 3ms/step - loss: 0.8024 - accuracy: 0.3506\n",
      "Epoch 4/20\n",
      "5/5 [==============================] - 0s 3ms/step - loss: 0.7400 - accuracy: 0.4182\n",
      "Epoch 5/20\n",
      "5/5 [==============================] - 0s 3ms/step - loss: 0.6762 - accuracy: 0.5591\n",
      "Epoch 6/20\n",
      "5/5 [==============================] - 0s 4ms/step - loss: 0.6269 - accuracy: 0.6913\n",
      "Epoch 7/20\n",
      "5/5 [==============================] - 0s 5ms/step - loss: 0.6099 - accuracy: 0.7142\n",
      "Epoch 8/20\n",
      "5/5 [==============================] - 0s 4ms/step - loss: 0.5648 - accuracy: 0.7965\n",
      "Epoch 9/20\n",
      "5/5 [==============================] - 0s 2ms/step - loss: 0.5186 - accuracy: 0.8658\n",
      "Epoch 10/20\n",
      "5/5 [==============================] - 0s 2ms/step - loss: 0.4713 - accuracy: 0.8792\n",
      "Epoch 11/20\n",
      "5/5 [==============================] - 0s 5ms/step - loss: 0.4344 - accuracy: 0.8971\n",
      "Epoch 12/20\n",
      "5/5 [==============================] - ETA: 0s - loss: 0.4044 - accuracy: 0.88 - 0s 4ms/step - loss: 0.4019 - accuracy: 0.9086\n",
      "Epoch 13/20\n",
      "5/5 [==============================] - 0s 4ms/step - loss: 0.3651 - accuracy: 0.9219\n",
      "Epoch 14/20\n",
      "5/5 [==============================] - 0s 6ms/step - loss: 0.3480 - accuracy: 0.9243\n",
      "Epoch 15/20\n",
      "5/5 [==============================] - 0s 9ms/step - loss: 0.3087 - accuracy: 0.9257\n",
      "Epoch 16/20\n",
      "5/5 [==============================] - 0s 6ms/step - loss: 0.2847 - accuracy: 0.9487\n",
      "Epoch 17/20\n",
      "5/5 [==============================] - 0s 7ms/step - loss: 0.2803 - accuracy: 0.9538\n",
      "Epoch 18/20\n",
      "5/5 [==============================] - 0s 8ms/step - loss: 0.2441 - accuracy: 0.9558\n",
      "Epoch 19/20\n",
      "5/5 [==============================] - 0s 9ms/step - loss: 0.2329 - accuracy: 0.9486\n",
      "Epoch 20/20\n",
      "5/5 [==============================] - 0s 6ms/step - loss: 0.2308 - accuracy: 0.9320\n",
      "3/3 [==============================] - 0s 2ms/step - loss: 0.2195 - accuracy: 0.9733\n",
      "Loss:  0.21945835649967194\n",
      "Accuracy:  0.9733333587646484\n",
      "Model: \"sequential_1\"\n",
      "_________________________________________________________________\n",
      "Layer (type)                 Output Shape              Param #   \n",
      "=================================================================\n",
      "dense_3 (Dense)              (None, 16)                496       \n",
      "_________________________________________________________________\n",
      "dropout_2 (Dropout)          (None, 16)                0         \n",
      "_________________________________________________________________\n",
      "dense_4 (Dense)              (None, 16)                272       \n",
      "_________________________________________________________________\n",
      "dropout_3 (Dropout)          (None, 16)                0         \n",
      "_________________________________________________________________\n",
      "dense_5 (Dense)              (None, 1)                 17        \n",
      "=================================================================\n",
      "Total params: 785\n",
      "Trainable params: 785\n",
      "Non-trainable params: 0\n",
      "_________________________________________________________________\n",
      "None\n"
     ]
    }
   ],
   "source": [
    "data = pd.read_csv('./data/data.csv')\n",
    "del data['Unnamed: 32']\n",
    "print('Number of datapoints in Training dataset: ',len(data))\n",
    "X_train = data.iloc[:, 2:].values\n",
    "y_train = data.iloc[:, 1].values\n",
    "\n",
    "test = pd.read_csv('./data/test.csv')\n",
    "del test['Unnamed: 32']\n",
    "print('Number of datapoints in Testing dataset: ',len(test))\n",
    "X_test = test.iloc[:, 2:].values\n",
    "y_test = test.iloc[:, 1].values\n",
    "\n",
    "labelencoder = LabelEncoder()\n",
    "y_train = labelencoder.fit_transform(y_train)\n",
    "y_test = labelencoder.fit_transform(y_test)\n",
    "\n",
    "sc = StandardScaler()\n",
    "X_train = sc.fit_transform(X_train)\n",
    "X_test = sc.transform(X_test)\n",
    "\n",
    "model = Sequential()\n",
    "\n",
    "model.add(Dense(16, activation='relu', input_dim=30))\n",
    "model.add(Dropout(0.1))\n",
    "model.add(Dense(16, activation='relu'))\n",
    "model.add(Dropout(0.1))\n",
    "model.add(Dense(1, activation='sigmoid'))\n",
    "\n",
    "model.compile(optimizer='adam', loss='binary_crossentropy', metrics=['accuracy'])\n",
    "model.fit(X_train, y_train, batch_size=100, epochs=20)\n",
    "\n",
    "scores = model.evaluate(X_test, y_test)\n",
    "print(\"Loss: \", scores[0])        #Loss\n",
    "print(\"Accuracy: \", scores[1])    #Accuracy\n",
    "print(model.summary())"
   ]
  },
  {
   "cell_type": "code",
   "execution_count": null,
   "metadata": {},
   "outputs": [],
   "source": []
  }
 ],
 "metadata": {
  "kernelspec": {
   "display_name": "Python 3",
   "language": "python",
   "name": "python3"
  },
  "language_info": {
   "codemirror_mode": {
    "name": "ipython",
    "version": 3
   },
   "file_extension": ".py",
   "mimetype": "text/x-python",
   "name": "python",
   "nbconvert_exporter": "python",
   "pygments_lexer": "ipython3",
   "version": "3.8.5"
  }
 },
 "nbformat": 4,
 "nbformat_minor": 4
}
